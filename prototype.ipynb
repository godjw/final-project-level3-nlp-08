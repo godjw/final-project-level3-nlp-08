{
 "cells": [
  {
   "cell_type": "code",
   "execution_count": null,
   "metadata": {},
   "outputs": [],
   "source": [
    "from os import listdir, path\n",
    "\n",
    "from transformers import(\n",
    "    VisionEncoderDecoderModel, \n",
    "    ViTFeatureExtractor, \n",
    "    AutoModelForCausalLM,\n",
    "    AutoTokenizer,\n",
    "    PreTrainedTokenizerFast\n",
    ")\n",
    "import torch\n",
    "import numpy as np\n",
    "from PIL import Image\n",
    "\n",
    "from PyKomoran import Komoran, DEFAULT_MODEL\n",
    "\n",
    "from models.modified_sample.gpt2 import GPT2ModifiedSampleForCausalLM"
   ]
  },
  {
   "cell_type": "code",
   "execution_count": null,
   "metadata": {},
   "outputs": [],
   "source": [
    "device = \"cuda\" if torch.cuda.is_available() else \"cpu\""
   ]
  },
  {
   "cell_type": "code",
   "execution_count": null,
   "metadata": {},
   "outputs": [],
   "source": [
    "# load captioning model\n",
    "encoder_model_name_or_path = \"ddobokki/vision-encoder-decoder-vit-gpt2-coco-ko\"\n",
    "caption_tokenizer = PreTrainedTokenizerFast.from_pretrained(encoder_model_name_or_path)\n",
    "feature_extractor = ViTFeatureExtractor.from_pretrained(encoder_model_name_or_path)\n",
    "caption_model = VisionEncoderDecoderModel.from_pretrained(encoder_model_name_or_path).to(device)\n",
    "caption_model.eval()"
   ]
  },
  {
   "cell_type": "code",
   "execution_count": null,
   "metadata": {},
   "outputs": [],
   "source": [
    "# load poem model\n",
    "path = \"/opt/ml/outputs/checkpoint-92\"\n",
    "poem_tokenizer = AutoTokenizer.from_pretrained(path)\n",
    "poem_model = GPT2ModifiedSampleForCausalLM.from_pretrained(path).to(device)\n",
    "poem_model.eval()"
   ]
  },
  {
   "cell_type": "code",
   "execution_count": null,
   "metadata": {},
   "outputs": [],
   "source": [
    "komoran = Komoran(DEFAULT_MODEL[\"FULL\"])"
   ]
  },
  {
   "cell_type": "code",
   "execution_count": null,
   "metadata": {},
   "outputs": [],
   "source": [
    "img_dir = \"/opt/ml/data/test_imgs\"\n",
    "for img_name in listdir(img_dir):\n",
    "    img_path = path.join(img_dir, img_name)\n",
    "    img = Image.open(img_path).convert(\"RGB\")\n",
    "\n",
    "    pixel_values = feature_extractor(images=img, return_tensors=\"pt\").pixel_values.to(device)\n",
    "    caption_ids = caption_model.generate(pixel_values, num_beams=5)\n",
    "    caption = caption_tokenizer.decode(caption_ids, skip_special_tokens=True)[0]\n",
    "\n",
    "    nouns = komoran.nouns(caption)\n",
    "    input_text = f\"@{', '.join(nouns)}@<d>\\n\"\n",
    "\n",
    "    input_ids = poem_tokenizer.encode(input_text, return_tensors=\"pt\").to(device)\n",
    "    output_ids = poem_model.generate(\n",
    "        input_ids,\n",
    "        max_length=64,\n",
    "        repetition_penalty=2.0,\n",
    "        pad_token_id=poem_tokenizer.pad_token_id,\n",
    "        eos_token_id=poem_tokenizer.eos_token_id,\n",
    "        bos_token_id=poem_tokenizer.bos_token_id,\n",
    "        do_sample=True,\n",
    "        top_k=16,\n",
    "        top_p=0.8,\n",
    "    )\n",
    "    poem = poem_tokenizer.decode(output_ids[0])\n",
    "\n",
    "    img.show()\n",
    "    print(f\"caption: {caption}\")\n",
    "    print(f\"poem:\\n{poem}\")"
   ]
  },
  {
   "cell_type": "code",
   "execution_count": null,
   "metadata": {},
   "outputs": [],
   "source": []
  }
 ],
 "metadata": {
  "interpreter": {
   "hash": "e31c68abf1d5dd3f9e2269f23eadf1b199587e56c0618a30760176a65ebfcab4"
  },
  "kernelspec": {
   "display_name": "Python 3.7.11 64-bit ('lightweight': conda)",
   "language": "python",
   "name": "python3"
  },
  "language_info": {
   "codemirror_mode": {
    "name": "ipython",
    "version": 3
   },
   "file_extension": ".py",
   "mimetype": "text/x-python",
   "name": "python",
   "nbconvert_exporter": "python",
   "pygments_lexer": "ipython3",
   "version": "3.9.7"
  },
  "orig_nbformat": 4
 },
 "nbformat": 4,
 "nbformat_minor": 2
}
