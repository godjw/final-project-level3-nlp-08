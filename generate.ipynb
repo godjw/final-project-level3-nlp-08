{
 "cells": [
  {
   "cell_type": "code",
   "execution_count": 1,
   "metadata": {},
   "outputs": [],
   "source": [
    "from time import perf_counter\n",
    "\n",
    "from transformers import AutoTokenizer, AutoModelForCausalLM\n",
    "import torch"
   ]
  },
  {
   "cell_type": "code",
   "execution_count": 2,
   "metadata": {},
   "outputs": [],
   "source": [
    "model_path = \"/opt/ml/outputs\"\n",
    "\n",
    "device = \"cuda\" if torch.cuda.is_available() else \"cpu\"\n",
    "tokenizer = AutoTokenizer.from_pretrained(model_path)\n",
    "model = AutoModelForCausalLM.from_pretrained(model_path).to(device)"
   ]
  },
  {
   "cell_type": "code",
   "execution_count": 4,
   "metadata": {},
   "outputs": [
    {
     "name": "stdout",
     "output_type": "stream",
     "text": [
      "generated text:\n",
      "적갈색의 와인을, 다른 한쪽은 어두운 밤하늘의 별을 바라보고 있었습니다.\n",
      "내 눈에 비친 모든 것은 붉은 포도주 빛으로 반짝반짝입니다.\n",
      "우리는 서로 마주보았지요.\n",
      "그 때 저는 당신을 사랑했어요.\n",
      "당신의 얼굴에도 미소가 번지기 시작하더니, 당신은 저의 볼에 손을 가져가 제 입술을 감싸안.\n",
      "\n",
      "time spent: 1.26 sec\n"
     ]
    }
   ],
   "source": [
    "input_text = \"적갈색의 와인을\"\n",
    "input_ids = tokenizer.encode(input_text, return_tensors=\"pt\").to(device)\n",
    "\n",
    "# Check generation time\n",
    "t = perf_counter()\n",
    "\n",
    "output = model.generate(\n",
    "    input_ids,\n",
    "    max_length=64,\n",
    "    repetition_penalty=2.0,\n",
    "    pad_token_id=tokenizer.pad_token_id,\n",
    "    eos_token_id=tokenizer.eos_token_id,\n",
    "    bos_token_id=tokenizer.bos_token_id,\n",
    "    do_sample=True,\n",
    "    top_k=30,\n",
    "    top_p=0.95,\n",
    ")\n",
    "generated_text = tokenizer.decode(output[0])\n",
    "\n",
    "spent = perf_counter() - t\n",
    "\n",
    "print(\"generated text:\", *map(lambda x: x.strip() + \".\", generated_text.split(\".\")), sep=\"\\n\")\n",
    "print(f\"\\ntime spent: {spent:.2f} sec\")"
   ]
  },
  {
   "cell_type": "code",
   "execution_count": null,
   "metadata": {},
   "outputs": [],
   "source": []
  }
 ],
 "metadata": {
  "interpreter": {
   "hash": "978d5707b7c196c3831747d301f7e8256aef35df9e61b45ddd657e9ae39cf07e"
  },
  "kernelspec": {
   "display_name": "Python 3.9.7 64-bit ('project': conda)",
   "language": "python",
   "name": "python3"
  },
  "language_info": {
   "codemirror_mode": {
    "name": "ipython",
    "version": 3
   },
   "file_extension": ".py",
   "mimetype": "text/x-python",
   "name": "python",
   "nbconvert_exporter": "python",
   "pygments_lexer": "ipython3",
   "version": "3.9.7"
  },
  "orig_nbformat": 4
 },
 "nbformat": 4,
 "nbformat_minor": 2
}
