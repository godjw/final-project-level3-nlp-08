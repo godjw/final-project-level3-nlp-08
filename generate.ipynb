{
 "cells": [
  {
   "cell_type": "code",
   "execution_count": null,
   "metadata": {},
   "outputs": [],
   "source": [
    "from time import perf_counter\n",
    "import pickle\n",
    "\n",
    "from transformers import AutoTokenizer, AutoModelForCausalLM\n",
    "import torch\n",
    "\n",
    "from soynlp.tokenizer import LTokenizer\n",
    "from models.modified_sample.gpt2 import GPT2ModifiedSampleForCausalLM"
   ]
  },
  {
   "cell_type": "code",
   "execution_count": null,
   "metadata": {},
   "outputs": [],
   "source": [
    "# model_path = \"lexiconium/kogpt-trinity\"\n",
    "# revision = \"punct_wrapper-related_words-minevalloss\"\n",
    "\n",
    "\n",
    "# device = \"cuda\" if torch.cuda.is_available() else \"cpu\"\n",
    "# tokenizer = AutoTokenizer.from_pretrained(model_path, revision=revision, use_auth_token=True)\n",
    "# model = AutoModelForCausalLM.from_pretrained(model_path, revision=revision, use_auth_token=True).to(device)\n",
    "# model.eval()"
   ]
  },
  {
   "cell_type": "code",
   "execution_count": null,
   "metadata": {},
   "outputs": [],
   "source": [
    "model_path = \"/opt/ml/outputs/checkpoint-92\"\n",
    "\n",
    "device = \"cuda\" if torch.cuda.is_available() else \"cpu\"\n",
    "tokenizer = AutoTokenizer.from_pretrained(model_path)\n",
    "model = GPT2ModifiedSampleForCausalLM.from_pretrained(model_path).to(device)\n",
    "model.eval()"
   ]
  },
  {
   "cell_type": "code",
   "execution_count": null,
   "metadata": {},
   "outputs": [],
   "source": [
    "@torch.no_grad()\n",
    "def genreate_from_input(\n",
    "    input_text: str, max_length: int = 64, top_k: int = 30, top_p: float = 0.95, temperature: float = 1.0\n",
    "):\n",
    "    input_ids = tokenizer.encode(input_text, return_tensors=\"pt\").to(device)\n",
    "\n",
    "    # Check generation time\n",
    "    t = perf_counter()\n",
    "\n",
    "    output = model.generate(\n",
    "        input_ids,\n",
    "        max_length=max_length,\n",
    "        repetition_penalty=2.0,\n",
    "        pad_token_id=tokenizer.pad_token_id,\n",
    "        eos_token_id=tokenizer.eos_token_id,\n",
    "        bos_token_id=tokenizer.bos_token_id,\n",
    "        do_sample=True,\n",
    "        top_k=top_k,\n",
    "        top_p=top_p,\n",
    "        temperature=temperature,\n",
    "    )\n",
    "    generated_text = tokenizer.decode(output[0])\n",
    "\n",
    "    spent = perf_counter() - t\n",
    "\n",
    "    return generated_text, spent\n"
   ]
  },
  {
   "cell_type": "code",
   "execution_count": null,
   "metadata": {},
   "outputs": [],
   "source": [
    "with open(\"/opt/ml/data/namuwiki_filtered_cohesion.pickle\", \"rb\") as f:\n",
    "    cohesions = pickle.load(f)\n",
    "    l_cohesions = {word: score[0] for word, score in cohesions.items()}\n",
    "    l_tokenizer = LTokenizer(l_cohesions)"
   ]
  },
  {
   "cell_type": "code",
   "execution_count": null,
   "metadata": {},
   "outputs": [],
   "source": [
    "prompt = \"스키, 설산, 내림, 남자\"\n",
    "\n",
    "input_text = f\"@{prompt}@<d>\\n\"\n",
    "\n",
    "# words = l_tokenizer(prompt)\n",
    "# input_text = f\"@{', '.join(words)}@<d>\\n\"\n",
    "\n",
    "for top_p in [0.8]:\n",
    "    for top_k in [16]:\n",
    "        print(f\"========\\n{top_p=}\\n{top_k=}\\n========\\n\")\n",
    "        for n in range(1, 6):\n",
    "            generated_text, spent = genreate_from_input(input_text, max_length=64, top_k=top_k, top_p=top_p, temperature=1.0)\n",
    "            print(f\"[{n}]:\\n{generated_text}\\n\")\n",
    "            # print(f\"\\ntime spent: {spent:.2f} sec\")\n"
   ]
  },
  {
   "cell_type": "code",
   "execution_count": null,
   "metadata": {},
   "outputs": [],
   "source": [
    "# prompt = \"스키를 타고 눈 덮인 비탈을 내려오는 남자\"\n",
    "\n",
    "# input_text = f\"@{prompt}@<usr>\\n\"\n",
    "\n",
    "# generated_text, spent = genreate_from_input(input_text, max_length=64, top_k=10, top_p=0.8, temperature=1.0)\n",
    "# print(f\"{generated_text}\\n\")\n",
    "# # probs.shape=torch.Size([1, 51200])"
   ]
  },
  {
   "cell_type": "code",
   "execution_count": null,
   "metadata": {},
   "outputs": [],
   "source": []
  }
 ],
 "metadata": {
  "interpreter": {
   "hash": "978d5707b7c196c3831747d301f7e8256aef35df9e61b45ddd657e9ae39cf07e"
  },
  "kernelspec": {
   "display_name": "Python 3.9.7 64-bit ('project': conda)",
   "language": "python",
   "name": "python3"
  },
  "language_info": {
   "codemirror_mode": {
    "name": "ipython",
    "version": 3
   },
   "file_extension": ".py",
   "mimetype": "text/x-python",
   "name": "python",
   "nbconvert_exporter": "python",
   "pygments_lexer": "ipython3",
   "version": "3.9.7"
  },
  "orig_nbformat": 4
 },
 "nbformat": 4,
 "nbformat_minor": 2
}
