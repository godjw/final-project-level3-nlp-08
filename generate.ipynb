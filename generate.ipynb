{
 "cells": [
  {
   "cell_type": "code",
   "execution_count": 1,
   "metadata": {},
   "outputs": [],
   "source": [
    "from time import perf_counter\n",
    "\n",
    "from transformers import AutoTokenizer, AutoModelForCausalLM\n",
    "import torch"
   ]
  },
  {
   "cell_type": "code",
   "execution_count": 2,
   "metadata": {},
   "outputs": [],
   "source": [
    "model_path = \"/opt/ml/final-project-level3-nlp-08/outputs/checkpoint-660\"\n",
    "eval_loss_path = \"/opt/ml/final-project-level3-nlp-08/outputs/checkpoint-110\"\n",
    "\n",
    "device = \"cuda\" if torch.cuda.is_available() else \"cpu\"\n",
    "tokenizer = AutoTokenizer.from_pretrained(model_path)\n",
    "model = AutoModelForCausalLM.from_pretrained(model_path).to(device)\n",
    "\n",
    "device = \"cuda\" if torch.cuda.is_available() else \"cpu\"\n",
    "#tokenizer = AutoTokenizer.from_pretrained(eval_loss_path)\n",
    "e_model = AutoModelForCausalLM.from_pretrained(eval_loss_path).to(device)"
   ]
  },
  {
   "cell_type": "code",
   "execution_count": 9,
   "metadata": {},
   "outputs": [
    {
     "name": "stdout",
     "output_type": "stream",
     "text": [
      "generated text:\n",
      "경찰관이 말을 타고있다.\n",
      "그 사람은 나를 보고 말한다.\n",
      "그는 내가 싫어.\n",
      "나는 대답하지 않는다.\n",
      "그저 조용히 걷기만 할뿐.\n",
      "그리고 또 다시 나의 뒤통수에 대고 소리를 지른 다.\n",
      "그러나 아무도 쳐다보지 못한다.\n",
      "오직 나만이 그의 소리에 반응 한다.\n",
      "왜.\n",
      "\n",
      "time spent: 0.94 sec\n"
     ]
    }
   ],
   "source": [
    "input_text = \"경찰관이 말을 타고있다.\"\n",
    "input_ids = tokenizer.encode(input_text, return_tensors=\"pt\").to(device)\n",
    "\n",
    "# Check generation time\n",
    "t = perf_counter()\n",
    "\n",
    "output = model.generate(\n",
    "    input_ids,\n",
    "    max_length=50,\n",
    "    repetition_penalty=2.0,\n",
    "    pad_token_id=tokenizer.pad_token_id,\n",
    "    eos_token_id=tokenizer.eos_token_id,\n",
    "    bos_token_id=tokenizer.bos_token_id,\n",
    "    do_sample=True,\n",
    "    top_k=30,\n",
    "    top_p=0.95,\n",
    ")\n",
    "generated_text = tokenizer.decode(output[0])\n",
    "\n",
    "spent = perf_counter() - t\n",
    "\n",
    "print(\"generated text:\", *map(lambda x: x.strip() + \".\", generated_text.split(\".\")), sep=\"\\n\")\n",
    "print(f\"\\ntime spent: {spent:.2f} sec\")"
   ]
  },
  {
   "cell_type": "code",
   "execution_count": 10,
   "metadata": {},
   "outputs": [
    {
     "name": "stdout",
     "output_type": "stream",
     "text": [
      "generated text:\n",
      "경찰관이 말을 타고있다.\n",
      "그에게는 한 번도 본적없는 말.\n",
      "하지만 그는 알고 있다.\n",
      "그의 말에 따라 움직이고 있다는 것을.\n",
      ".\n",
      "시계가 그를 보고 있고 그가 손목을 긋고 있으며 그도 역시 똑같이 칼을 휘두르고 있지만 그들의 눈에는 모두 다르게.\n",
      "\n",
      "time spent: 0.94 sec\n"
     ]
    }
   ],
   "source": [
    "t = perf_counter()\n",
    "\n",
    "output = e_model.generate(\n",
    "    input_ids,\n",
    "    max_length=50,\n",
    "    repetition_penalty=2.0,\n",
    "    pad_token_id=tokenizer.pad_token_id,\n",
    "    eos_token_id=tokenizer.eos_token_id,\n",
    "    bos_token_id=tokenizer.bos_token_id,\n",
    "    do_sample=True,\n",
    "    top_k=30,\n",
    "    top_p=0.95,\n",
    "    bad_word_ids=[[30694],[44507],[31136, 31136]]\n",
    ")\n",
    "generated_text = tokenizer.decode(output[0])\n",
    "\n",
    "spent = perf_counter() - t\n",
    "\n",
    "print(\"generated text:\", *map(lambda x: x.strip() + \".\", generated_text.split(\".\")), sep=\"\\n\")\n",
    "print(f\"\\ntime spent: {spent:.2f} sec\")"
   ]
  },
  {
   "cell_type": "code",
   "execution_count": 102,
   "metadata": {},
   "outputs": [
    {
     "data": {
      "text/plain": [
       "[31136]"
      ]
     },
     "execution_count": 102,
     "metadata": {},
     "output_type": "execute_result"
    }
   ],
   "source": [
    "tokenizer.encode(\".\")"
   ]
  }
 ],
 "metadata": {
  "interpreter": {
   "hash": "978d5707b7c196c3831747d301f7e8256aef35df9e61b45ddd657e9ae39cf07e"
  },
  "kernelspec": {
   "display_name": "Python 3.9.7 64-bit ('project': conda)",
   "language": "python",
   "name": "python3"
  },
  "language_info": {
   "codemirror_mode": {
    "name": "ipython",
    "version": 3
   },
   "file_extension": ".py",
   "mimetype": "text/x-python",
   "name": "python",
   "nbconvert_exporter": "python",
   "pygments_lexer": "ipython3",
   "version": "3.7.11"
  },
  "orig_nbformat": 4
 },
 "nbformat": 4,
 "nbformat_minor": 2
}
