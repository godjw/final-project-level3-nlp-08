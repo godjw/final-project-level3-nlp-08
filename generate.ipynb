{
 "cells": [
  {
   "cell_type": "code",
   "execution_count": 3,
   "metadata": {},
   "outputs": [],
   "source": [
    "from time import perf_counter\n",
    "\n",
    "from transformers import AutoTokenizer, AutoModelForCausalLM"
   ]
  },
  {
   "cell_type": "code",
   "execution_count": 4,
   "metadata": {},
   "outputs": [],
   "source": [
    "model_path = \"/opt/ml/outputs\"\n",
    "\n",
    "tokenizer = AutoTokenizer.from_pretrained(model_path)\n",
    "model = AutoModelForCausalLM.from_pretrained(model_path)"
   ]
  },
  {
   "cell_type": "code",
   "execution_count": 12,
   "metadata": {},
   "outputs": [
    {
     "name": "stdout",
     "output_type": "stream",
     "text": [
      "generated text:\n",
      "빨간 헬멧을 쓴 남자가 작은 오토바이를 타고 비포장 도로에 있다.\n",
      "한여름의 태양과 함께 쏟아지는 햇빛은 그에게 쉼이 되었지만 그와 그의 몸은 그 태양의 열기에 데워질 수 없는 추위에 얼어붙어 있었다.\n",
      "그는 눈 덮인 세상을 마주하기 위해 자신의 몸을 가릴 모자를.\n",
      "\n",
      "time spent: 10.76 sec\n"
     ]
    }
   ],
   "source": [
    "input_text = \"빨간 헬멧을 쓴 남자가 작은 오토바이를 타고 비포장 도로에 있다.\"\n",
    "input_ids = tokenizer.encode(input_text, return_tensors=\"pt\")\n",
    "\n",
    "# Check generation time\n",
    "t = perf_counter()\n",
    "\n",
    "output = model.generate(\n",
    "    input_ids,\n",
    "    max_length=64,\n",
    "    repetition_penalty=2.0,\n",
    "    pad_token_id=tokenizer.pad_token_id,\n",
    "    eos_token_id=tokenizer.eos_token_id,\n",
    "    bos_token_id=tokenizer.bos_token_id,\n",
    "    do_sample=True,\n",
    "    top_k=30,\n",
    "    top_p=0.95,\n",
    ")\n",
    "generated_text = tokenizer.decode(output[0])\n",
    "\n",
    "spent = perf_counter() - t\n",
    "\n",
    "print(\"generated text:\", *map(lambda x: x.strip() + \".\", generated_text.split(\".\")), sep=\"\\n\")\n",
    "print(f\"\\ntime spent: {spent:.2f} sec\")"
   ]
  },
  {
   "cell_type": "code",
   "execution_count": null,
   "metadata": {},
   "outputs": [],
   "source": []
  }
 ],
 "metadata": {
  "interpreter": {
   "hash": "978d5707b7c196c3831747d301f7e8256aef35df9e61b45ddd657e9ae39cf07e"
  },
  "kernelspec": {
   "display_name": "Python 3.9.7 64-bit ('project': conda)",
   "language": "python",
   "name": "python3"
  },
  "language_info": {
   "codemirror_mode": {
    "name": "ipython",
    "version": 3
   },
   "file_extension": ".py",
   "mimetype": "text/x-python",
   "name": "python",
   "nbconvert_exporter": "python",
   "pygments_lexer": "ipython3",
   "version": "3.9.7"
  },
  "orig_nbformat": 4
 },
 "nbformat": 4,
 "nbformat_minor": 2
}
