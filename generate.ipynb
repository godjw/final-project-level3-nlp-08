{
 "cells": [
  {
   "cell_type": "code",
   "execution_count": 1,
   "metadata": {},
   "outputs": [],
   "source": [
    "from time import perf_counter\n",
    "\n",
    "from transformers import AutoTokenizer, AutoModelForCausalLM\n",
    "import torch"
   ]
  },
  {
   "cell_type": "code",
   "execution_count": 2,
   "metadata": {},
   "outputs": [],
   "source": [
    "model_path = \"/opt/ml/CheonggyeMountain-Sherpa/kogpt-trinity-poem\"\n",
    "#eval_loss_path = \"/opt/ml/final-project-level3-nlp-08/outputs/checkpoint-110\"\n",
    "\n",
    "device = \"cuda\" if torch.cuda.is_available() else \"cpu\"\n",
    "tokenizer = AutoTokenizer.from_pretrained(model_path)\n",
    "model = AutoModelForCausalLM.from_pretrained(model_path).to(device)\n",
    "\n",
    "#device = \"cuda\" if torch.cuda.is_available() else \"cpu\"\n",
    "#tokenizer = AutoTokenizer.from_pretrained(eval_loss_path)\n",
    "#e_model = AutoModelForCausalLM.from_pretrained(eval_loss_path).to(device)"
   ]
  },
  {
   "cell_type": "code",
   "execution_count": 105,
   "metadata": {},
   "outputs": [
    {
     "data": {
      "text/plain": [
       "tensor([38573, 23084,   408,   565])"
      ]
     },
     "execution_count": 105,
     "metadata": {},
     "output_type": "execute_result"
    }
   ],
   "source": [
    "text = \"@별@ \"\n",
    "ex = tokenizer.encode(text, return_tensors=\"pt\")[0]\n",
    "ex"
   ]
  },
  {
   "cell_type": "code",
   "execution_count": 177,
   "metadata": {},
   "outputs": [
    {
     "name": "stdout",
     "output_type": "stream",
     "text": [
      "@흰 고양이가 사발 안에 앉아 있다.@\n",
      "까마귀야, 까마귀가 네 품에 안기기를 빈다.\n",
      "너 혼자만의 밀회도 설워 말아라.\n",
      "사발로 만든 술잔에\n",
      "하룻밤 꿈만 실컷 꿈꾸고 가는,\n",
      "나는 너처럼 착한 사람이 되고 싶다.\n",
      "너는 나의 외동딸\n",
      "\n",
      "time spent: 1.18 sec\n"
     ]
    }
   ],
   "source": [
    "input_text = \"@흰 고양이가 사발 안에 앉아 있다.@\"\n",
    "#input_text = \"@우리는 꿈을 꾸는 소녀들@\"\n",
    "\n",
    "input_ids = tokenizer.encode(input_text, return_tensors=\"pt\").to(device)\n",
    "\n",
    "# Check generation time\n",
    "t = perf_counter()\n",
    "\n",
    "max_length = 100\n",
    "stc_length = 14\n",
    "\n",
    "for \n",
    "\n",
    "output = model.generate(\n",
    "    input_ids,\n",
    "    max_length=64,\n",
    "    repetition_penalty=2.0,\n",
    "    pad_token_id=tokenizer.pad_token_id,\n",
    "    eos_token_id=tokenizer.eos_token_id,\n",
    "    bos_token_id=tokenizer.bos_token_id,\n",
    "    do_sample=True,\n",
    "    bad_words_ids = [[38573],[408]],\n",
    "    top_p = 0.95,\n",
    ")\n",
    "generated_text = tokenizer.decode(output[0])\n",
    "\n",
    "spent = perf_counter() - t\n",
    "\n",
    "print(generated_text)\n",
    "print(f\"\\ntime spent: {spent:.2f} sec\")"
   ]
  },
  {
   "cell_type": "code",
   "execution_count": null,
   "metadata": {},
   "outputs": [],
   "source": [
    "@흐린 날에는 바다 위를 날고 있는 새@\n",
    "흐린 날 바다 위를 나는 새는 조류 우울증을 갖고 있을 확률이 높다.\n",
    "이 같은 현상은 네이쳐 지에 보고된 바 있으며\n",
    "최근 조선일보 등의 메이져 신문사에서도 따로 지면을 할애해\n",
    "문제의 심각성에 대해 논의했을 정도로 관심도가 높다."
   ]
  },
  {
   "cell_type": "code",
   "execution_count": 10,
   "metadata": {},
   "outputs": [
    {
     "name": "stdout",
     "output_type": "stream",
     "text": [
      "generated text:\n",
      "경찰관이 말을 타고있다.\n",
      "그에게는 한 번도 본적없는 말.\n",
      "하지만 그는 알고 있다.\n",
      "그의 말에 따라 움직이고 있다는 것을.\n",
      ".\n",
      "시계가 그를 보고 있고 그가 손목을 긋고 있으며 그도 역시 똑같이 칼을 휘두르고 있지만 그들의 눈에는 모두 다르게.\n",
      "\n",
      "time spent: 0.94 sec\n"
     ]
    }
   ],
   "source": [
    "t = perf_counter()\n",
    "\n",
    "output = e_model.generate(\n",
    "    input_ids,\n",
    "    max_length=50,\n",
    "    repetition_penalty=2.0,\n",
    "    pad_token_id=tokenizer.pad_token_id,\n",
    "    eos_token_id=tokenizer.eos_token_id,\n",
    "    bos_token_id=tokenizer.bos_token_id,\n",
    "    do_sample=True,\n",
    "    top_k=30,\n",
    "    top_p=0.95,\n",
    "    bad_word_ids=[[30694],[44507],[31136, 31136]]\n",
    ")\n",
    "generated_text = tokenizer.decode(output[0])\n",
    "\n",
    "spent = perf_counter() - t\n",
    "\n",
    "print(\"generated text:\", *map(lambda x: x.strip() + \".\", generated_text.split(\".\")), sep=\"\\n\")\n",
    "print(f\"\\ntime spent: {spent:.2f} sec\")"
   ]
  },
  {
   "cell_type": "code",
   "execution_count": 102,
   "metadata": {},
   "outputs": [
    {
     "data": {
      "text/plain": [
       "[31136]"
      ]
     },
     "execution_count": 102,
     "metadata": {},
     "output_type": "execute_result"
    }
   ],
   "source": [
    "tokenizer.encode(\".\")"
   ]
  }
 ],
 "metadata": {
  "interpreter": {
   "hash": "978d5707b7c196c3831747d301f7e8256aef35df9e61b45ddd657e9ae39cf07e"
  },
  "kernelspec": {
   "display_name": "Python 3.9.7 64-bit ('project': conda)",
   "language": "python",
   "name": "python3"
  },
  "language_info": {
   "codemirror_mode": {
    "name": "ipython",
    "version": 3
   },
   "file_extension": ".py",
   "mimetype": "text/x-python",
   "name": "python",
   "nbconvert_exporter": "python",
   "pygments_lexer": "ipython3",
   "version": "3.7.11"
  },
  "orig_nbformat": 4
 },
 "nbformat": 4,
 "nbformat_minor": 2
}
