{
 "cells": [
  {
   "cell_type": "code",
   "execution_count": null,
   "metadata": {},
   "outputs": [],
   "source": [
    "from time import perf_counter\n",
    "\n",
    "from transformers import AutoTokenizer\n",
    "import torch\n",
    "\n",
    "import pandas as pd\n",
    "from tqdm import tqdm\n",
    "\n",
    "from models.prefix_tuning.gpt2 import GPT2PrefixTuningForCausalLM\n",
    "from models.prefix_tuning.gptj import GPTJPrefixTuningForCausalLM"
   ]
  },
  {
   "cell_type": "code",
   "execution_count": null,
   "metadata": {},
   "outputs": [],
   "source": [
    "model_path = \"/opt/ml/final-project-level3-nlp-08/outputs/checkpoint-500\"\n",
    "\n",
    "device = \"cuda\" if torch.cuda.is_available() else \"cpu\"\n",
    "tokenizer = AutoTokenizer.from_pretrained(model_path)\n",
    "model = GPT2PrefixTuningForCausalLM.from_pretrained(model_path).to(device)\n",
    "model.eval()"
   ]
  },
  {
   "cell_type": "code",
   "execution_count": null,
   "metadata": {},
   "outputs": [],
   "source": [
    "@torch.no_grad()\n",
    "def genreate_from_input(input_text: str, max_length: int = 64, top_k: int = 30, top_p: float = 0.95):\n",
    "    input_ids = tokenizer.encode(input_text, return_tensors=\"pt\").to(device)\n",
    "\n",
    "    # Check generation time\n",
    "    t = perf_counter()\n",
    "\n",
    "    output = model.generate(\n",
    "        input_ids,\n",
    "        max_length=max_length,\n",
    "        repetition_penalty=2.0,\n",
    "        pad_token_id=tokenizer.pad_token_id,\n",
    "        eos_token_id=tokenizer.eos_token_id,\n",
    "        bos_token_id=tokenizer.bos_token_id,\n",
    "        do_sample=True,\n",
    "        top_k=top_k,\n",
    "        top_p=top_p,\n",
    "    )\n",
    "    generated_text = tokenizer.decode(output[0])\n",
    "\n",
    "    spent = perf_counter() - t\n",
    "\n",
    "    return generated_text, spent"
   ]
  },
  {
   "cell_type": "code",
   "execution_count": null,
   "metadata": {},
   "outputs": [],
   "source": [
    "# input_captions = pd.read_csv(\"/opt/ml/data/inputs_for_generation/show_attend_and_tell_output_captions.csv\")\n",
    "# input_captions = input_captions.drop(\n",
    "#     input_captions[input_captions[\"Unnamed: 0\"].apply(lambda x: \"<unk>\" in x)].index\n",
    "# )\n",
    "\n",
    "# top_p = 0.99\n",
    "\n",
    "# outputs = {\"input\": [], \"gen1\": [], \"gen2\": [], \"gen3\": [], \"gen4\": [], \"gen5\": [], \"time_spent\": []}\n",
    "# for input_text in tqdm(input_captions[\"Unnamed: 0\"].sample(100, random_state=42)):\n",
    "#     outputs[\"input\"].append(input_text := input_text[:-4])\n",
    "#     avg_t = 0\n",
    "#     for n in range(1, 6):\n",
    "#         generated, t = genreate_from_input(input_text, top_p=top_p)\n",
    "#         outputs[f\"gen{n}\"].append(generated)\n",
    "#         avg_t += t\n",
    "#     outputs[\"time_spent\"].append(avg_t / 5)\n",
    "\n",
    "# outputs_df = pd.DataFrame(outputs)\n",
    "# outputs_df.to_csv(f\"/opt/ml/analysis/outputs_from_show_attend_and_tell_captions_poem_p0{int(top_p * 100)}.csv\", index=False)\n",
    "# outputs_df"
   ]
  },
  {
   "cell_type": "code",
   "execution_count": null,
   "metadata": {},
   "outputs": [],
   "source": [
    "input_text = \"차가 도로를 지나고 있다.\"\n",
    "generated_text, spent = genreate_from_input(input_text)\n",
    "\n",
    "print(\"generated text:\", generated_text, sep=\"\\n\")\n",
    "print(f\"\\ntime spent: {spent:.2f} sec\")"
   ]
  },
  {
   "cell_type": "code",
   "execution_count": null,
   "metadata": {},
   "outputs": [],
   "source": [
    "# model.push_to_hub(\"prefix-gpt-trinity\", private=True)\n",
    "# tokenizer.push_to_hub(\"prefix-gpt-trinity\", private=True)"
   ]
  },
  {
   "cell_type": "code",
   "execution_count": null,
   "metadata": {},
   "outputs": [],
   "source": []
  }
 ],
 "metadata": {
  "interpreter": {
   "hash": "978d5707b7c196c3831747d301f7e8256aef35df9e61b45ddd657e9ae39cf07e"
  },
  "kernelspec": {
   "display_name": "Python 3.9.7 64-bit ('project': conda)",
   "language": "python",
   "name": "python3"
  },
  "language_info": {
   "codemirror_mode": {
    "name": "ipython",
    "version": 3
   },
   "file_extension": ".py",
   "mimetype": "text/x-python",
   "name": "python",
   "nbconvert_exporter": "python",
   "pygments_lexer": "ipython3",
   "version": "3.9.7"
  },
  "orig_nbformat": 4
 },
 "nbformat": 4,
 "nbformat_minor": 2
}
